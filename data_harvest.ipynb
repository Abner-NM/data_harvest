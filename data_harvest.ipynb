{
 "cells": [
  {
   "cell_type": "code",
   "execution_count": 3,
   "metadata": {},
   "outputs": [],
   "source": [
    "# Importing the Required Modules\n",
    "\n",
    "from bs4 import BeautifulSoup\n",
    "import requests\n",
    "import pandas as pd\n",
    "import numpy as np\n",
    "import configparser"
   ]
  },
  {
   "cell_type": "code",
   "execution_count": 2,
   "metadata": {},
   "outputs": [],
   "source": [
    "# Function to extract product Title\n",
    "def get_title(soup):\n",
    "\ttry:\n",
    "\t\t# get the product title as a string\n",
    "\t\ttitle = soup.find(\"span\", attrs={\"id\": \"productTitle\"}).text.strip()\n",
    "\t\n",
    "\texcept AttributeError:\n",
    "\t\ttitle = \"\"\n",
    "\treturn title\n",
    "\n",
    "# Function to extract Product Price\n",
    "def get_price(soup):\n",
    "\ttry:\n",
    "\t\t# get the product title as a string\n",
    "\t\tprice = soup.find(\"span\", attrs={\"class\": \"a-offscreen\"}).text.strip()\n",
    "\texcept AttributeError:\n",
    "\t\ttry:\n",
    "\t\t\t# If there is some deal price\n",
    "\t\t\tprice = soup.find(\"span\", attrs={'id':'priceblock_dealprice'}).string.strip()\n",
    "\t\t\t\n",
    "\t\texcept:\n",
    "\t\t\tprice = \"\"\n",
    "\treturn price\n",
    "\n",
    "# Function to extract product rating\n",
    "def get_rating(soup):\n",
    "\ttry:\n",
    "\t\t# get the product rating as a string\n",
    "\t\trating = soup.find(\"span\", attrs={\"class\": \"a-icon-alt\"}).text.strip()\n",
    "\texcept AttributeError:\n",
    "\t\trating = \"\"\n",
    "\treturn rating\n",
    "\n",
    "# Function to get the number of product reviews by amazon users\n",
    "def get_review_count(soup):\n",
    "\ttry:\n",
    "\t\t# get the number of product reviews as a string\n",
    "\t\treview_count = soup.find(\"span\", attrs={'id':'acrCustomerReviewText'}).text.strip()\n",
    "\texcept AttributeError:\n",
    "\t\treview_count = \"\"\n",
    "\treturn review_count\n",
    "\n",
    "# Function to extract the availability status of a product\n",
    "def get_availability(soup):\n",
    "\ttry:\n",
    "\t\t# get the availability status of a product\n",
    "\t\tavailability = soup.find(\"div\", attrs={'id':'availability'})\n",
    "\t\tavailability = availability.find(\"span\").text.strip()\n",
    "\texcept AttributeError:\n",
    "\t\tavailability = \"Not in Stock\"\n",
    "\treturn availability"
   ]
  },
  {
   "cell_type": "code",
   "execution_count": null,
   "metadata": {},
   "outputs": [],
   "source": [
    "if __name__ == '__main__':\n",
    "\n",
    "\t# The Amazon URL to check\n",
    "\turl = \"https://www.amazon.com/s?k=laptop&crid=3S0WZLZ9Y84JK&sprefix=laptop%2Caps%2C592&ref=nb_sb_noss_1\"\n",
    "\t\n",
    "\t\n",
    "\t# read my credentials using configparser\n",
    "\tconfig = configparser.ConfigParser()\n",
    "\tconfig.read('config.ini')\n",
    "\tuser_agent = ['amazon']['user_agent']\n",
    "\t\n",
    "\t# my header\n",
    "\theaders = ({'user-agent': user_agent, 'Accept-Language': 'en-US, em;q=0.5'})"
   ]
  }
 ],
 "metadata": {
  "kernelspec": {
   "display_name": "base",
   "language": "python",
   "name": "python3"
  },
  "language_info": {
   "codemirror_mode": {
    "name": "ipython",
    "version": 3
   },
   "file_extension": ".py",
   "mimetype": "text/x-python",
   "name": "python",
   "nbconvert_exporter": "python",
   "pygments_lexer": "ipython3",
   "version": "3.9.12"
  },
  "orig_nbformat": 4,
  "vscode": {
   "interpreter": {
    "hash": "feb48701eeb6cd3546b303cfcc4cf5d41a95c7c1aa8b2316dc4d0217f633146e"
   }
  }
 },
 "nbformat": 4,
 "nbformat_minor": 2
}
